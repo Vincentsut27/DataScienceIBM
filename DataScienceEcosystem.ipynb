{
 "cells": [
  {
   "cell_type": "markdown",
   "id": "9d9b7a5f-0027-44a4-8ee4-64e803f75e56",
   "metadata": {},
   "source": [
    "# (Data Science Tools and Ecosystem)"
   ]
  },
  {
   "cell_type": "markdown",
   "id": "6babdd07-c98b-458e-af30-31a950de997b",
   "metadata": {},
   "source": [
    "In this notebook, Data Science Tools and Ecosystem are summarized."
   ]
  },
  {
   "cell_type": "markdown",
   "id": "119acc1d-cb01-4506-a758-69d93e81b76e",
   "metadata": {},
   "source": [
    "Some of the popular languages that Data Scientists use are:\n",
    "1. Python\n",
    "2. R\n",
    "3. SQL"
   ]
  },
  {
   "cell_type": "markdown",
   "id": "681c069f-209d-4d51-a532-f70aea0b59f2",
   "metadata": {},
   "source": [
    "Some of the commonly used libraries used by Data Scientists include:\n",
    "1. Matplotlib\n",
    "2. Numpy\n",
    "3. Seaborn"
   ]
  },
  {
   "cell_type": "markdown",
   "id": "e6c3f540-f240-4d53-8c41-b4f2d6f37732",
   "metadata": {},
   "source": [
    "| Data Science Tools |\n",
    "| --- |\n",
    "| Apache Hadoop |\n",
    "| Apache Spark | \n",
    "| Apache Flink |"
   ]
  },
  {
   "cell_type": "markdown",
   "id": "09ef2d84-a604-477b-bec4-8e4df3e65308",
   "metadata": {},
   "source": [
    "### (Below are a few examples of evaluating arithmetic expressions in Python) "
   ]
  },
  {
   "cell_type": "code",
   "execution_count": 13,
   "id": "e26295f3-438d-4b7f-8f9b-d9e0349fdafd",
   "metadata": {},
   "outputs": [
    {
     "data": {
      "text/plain": [
       "17"
      ]
     },
     "execution_count": 13,
     "metadata": {},
     "output_type": "execute_result"
    }
   ],
   "source": [
    "(3*4)+5 #This a simple arithmetic expression to mutiply then add integers"
   ]
  },
  {
   "cell_type": "code",
   "execution_count": 15,
   "id": "2882a8db-fe28-4970-9f51-f9eb08cfa249",
   "metadata": {},
   "outputs": [
    {
     "data": {
      "text/plain": [
       "3.3333333333333335"
      ]
     },
     "execution_count": 15,
     "metadata": {},
     "output_type": "execute_result"
    }
   ],
   "source": [
    "200/60 #This will convert 200 minutes to hours by diving by 60"
   ]
  },
  {
   "cell_type": "markdown",
   "id": "fcb0e364-b8fc-4ab7-a960-a5d9dd694d51",
   "metadata": {},
   "source": [
    "**Objectives:**\n",
    "- Python\n",
    "- SQL\n",
    "- R"
   ]
  },
  {
   "cell_type": "markdown",
   "id": "4dc4c10d-67e2-426c-a705-4487a5e7c50a",
   "metadata": {},
   "source": [
    "## Author\n",
    "Vincent"
   ]
  },
  {
   "cell_type": "code",
   "execution_count": null,
   "id": "cc0c36c1-4908-4a83-905b-1cb6abe615a8",
   "metadata": {},
   "outputs": [],
   "source": []
  }
 ],
 "metadata": {
  "kernelspec": {
   "display_name": "Python 3 (ipykernel)",
   "language": "python",
   "name": "python3"
  },
  "language_info": {
   "codemirror_mode": {
    "name": "ipython",
    "version": 3
   },
   "file_extension": ".py",
   "mimetype": "text/x-python",
   "name": "python",
   "nbconvert_exporter": "python",
   "pygments_lexer": "ipython3",
   "version": "3.12.4"
  }
 },
 "nbformat": 4,
 "nbformat_minor": 5
}
